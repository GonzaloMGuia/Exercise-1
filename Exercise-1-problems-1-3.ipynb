{
 "cells": [
  {
   "cell_type": "markdown",
   "metadata": {
    "deletable": false,
    "editable": false,
    "nbgrader": {
     "cell_type": "markdown",
     "checksum": "60cb5389d4c4e5a3d05025551eae8aeb",
     "grade": false,
     "grade_id": "cell-c1d06e8c992c2c09",
     "locked": true,
     "schema_version": 3,
     "solution": false
    }
   },
   "source": [
    "# Problem 1: Converting math to Python (*3 points*)\n",
    "\n",
    "One of the goals of this part of the course is to develop your quantitative geoscience skills, including learning how to convert mathematical equations to Python code. Doing this allows you to explore how various equations work and produce useful data plots or predictions, something increasingly done by geoscience professionals.\n",
    "\n",
    "For this problem you are asked to create 3 Python functions to calculate common statistics on a list of values: (1) the *mean*, (2) the *standard deviation*, and (3) the *standard deviation of the mean* (or *standard error*). In Problem 2 we'll use these functions to calculate some statistics related to Holocene volcanoes from the [Smithsonian Institution's Global Volcanism Program](https://volcano.si.edu/).\n",
    "\n",
    "**Notice**: Closely follow the instructions! For example, you should be sure to use **exactly** the same variable names mentioned in the instructions because your answers will be automatically graded, and the tests that grade your answers rely on following the same formatting or variable naming as in the instructions.\n",
    "\n",
    "**Your score on this problem will be based on following criteria**:\n",
    "\n",
    "- Properly converting the given formulas to Python functions\n",
    "    - **Note**: You should not use existing Python, Pandas or NumPy functions in the functions you create, other than perhaps a function for calculating the square root\n",
    "- Including comments that explain what most lines in the code do\n",
    "- Uploading your notebook to your GitHub repository for this week's exercise"
   ]
  },
  {
   "cell_type": "markdown",
   "metadata": {
    "deletable": false,
    "editable": false,
    "nbgrader": {
     "cell_type": "markdown",
     "checksum": "c7bda0a562a0aa749d5ee8c75c5ad2bc",
     "grade": false,
     "grade_id": "cell-51fd556286ef9158",
     "locked": true,
     "schema_version": 3,
     "solution": false
    }
   },
   "source": [
    "## Part 1: Creating your `mean()` function (*1 point*)\n",
    "\n",
    "The *mean* or *average* $\\bar{x}$ should be calculated using a function you should call `mean()`.\n",
    "  \n",
    "\\begin{equation}\n",
    "  \\Large\n",
    "  \\bar{x} = \\frac{\\Sigma x_{i}}{N}\n",
    "\\end{equation}\n",
    "\n",
    "*Equation 1. The mean value, where $x_{i}$ is a value to be included in the mean calculation and $N$ is the total number of values to average*.\n",
    "\n",
    "- Create a function called `mean()` in the cell below."
   ]
  },
  {
   "cell_type": "code",
   "execution_count": null,
   "metadata": {
    "deletable": false,
    "nbgrader": {
     "cell_type": "code",
     "checksum": "7f871d8a2d5d2e0f5a3708e82eca3185",
     "grade": false,
     "grade_id": "mean",
     "locked": false,
     "schema_version": 3,
     "solution": true
    }
   },
   "outputs": [],
   "source": [
    "def mean(numbers):\n",
    "    \"\"\"Returns the average value of a collection of numbers.\"\"\"\n",
    "# YOUR CODE HERE\n",
    "raise NotImplementedError()"
   ]
  },
  {
   "cell_type": "code",
   "execution_count": null,
   "metadata": {
    "deletable": false,
    "editable": false,
    "nbgrader": {
     "cell_type": "code",
     "checksum": "8d0d6ff1144e07c01f9193d2146dac0b",
     "grade": true,
     "grade_id": "problem_1_mean_tests",
     "locked": true,
     "points": 1,
     "schema_version": 3,
     "solution": false
    }
   },
   "outputs": [],
   "source": [
    "# These tests with small lists should work\n",
    "\n",
    "from nose.tools import assert_equal, assert_true\n",
    "\n",
    "# Test mean function with some lists\n",
    "list1 = [1, 2, 3, 4, 5]\n",
    "list2 = [-1, 0, -5, 2]\n",
    "\n",
    "# Calculate list means\n",
    "list1_mean = mean(list1)\n",
    "list2_mean = mean(list2)\n",
    "\n",
    "# Print mean values\n",
    "print(\"Mean for list1:\", list1_mean)\n",
    "print(\"Mean for list2:\", list2_mean)\n",
    "\n",
    "# Check that the mean values are correct\n",
    "assert_equal(round(list1_mean, 3), 3.000)\n",
    "assert_equal(round(list2_mean, 3), -1.000)\n"
   ]
  },
  {
   "cell_type": "markdown",
   "metadata": {
    "deletable": false,
    "editable": false,
    "nbgrader": {
     "cell_type": "markdown",
     "checksum": "e386fbc71ee941d382c6e190bc7a2f36",
     "grade": false,
     "grade_id": "cell-b5214269ba34db7b",
     "locked": true,
     "schema_version": 3,
     "solution": false
    }
   },
   "source": [
    "## Part 2: Creating your `stddev()` function (*1 point*)\n",
    "\n",
    "The *standard deviation* $\\sigma_{x}$, calculated using a function you should call `stddev()`.\n",
    "\n",
    "\\begin{equation}\n",
    "  \\Large\n",
    "  \\sigma_{x} = \\sqrt{\\frac{1}{N} \\Sigma \\left( x_{i} - \\bar{x} \\right)^{2}}\n",
    "\\end{equation}\n",
    "\n",
    "*Equation 2. The standard deviation*.\n",
    "\n",
    "- Create a function called `stddev()` in the cell below."
   ]
  },
  {
   "cell_type": "code",
   "execution_count": null,
   "metadata": {
    "deletable": false,
    "nbgrader": {
     "cell_type": "code",
     "checksum": "3c34be9e58583a9b617dbe2171cc8f23",
     "grade": false,
     "grade_id": "stddev",
     "locked": false,
     "schema_version": 3,
     "solution": true
    }
   },
   "outputs": [],
   "source": [
    "# Import NumPy to use the square root function math.sqrt()\n",
    "import math\n",
    "\n",
    "def stddev(numbers):\n",
    "    \"\"\"Returns the standard deviation of a collection of numbers.\"\"\"\n",
    "# YOUR CODE HERE\n",
    "raise NotImplementedError()"
   ]
  },
  {
   "cell_type": "code",
   "execution_count": null,
   "metadata": {
    "deletable": false,
    "editable": false,
    "nbgrader": {
     "cell_type": "code",
     "checksum": "26511349f5fdf755391ef5ed10152805",
     "grade": true,
     "grade_id": "problem_1_stddev_tests",
     "locked": true,
     "points": 1,
     "schema_version": 3,
     "solution": false
    }
   },
   "outputs": [],
   "source": [
    "# These tests with small lists should work\n",
    "\n",
    "from nose.tools import assert_equal, assert_true\n",
    "\n",
    "# Test stddev function with some lists\n",
    "list1 = [1, 2, 3, 4, 5]\n",
    "list2 = [-1, 0, -5, 2]\n",
    "\n",
    "# Calculate list stddev\n",
    "list1_stddev = stddev(list1)\n",
    "list2_stddev = stddev(list2)\n",
    "\n",
    "# Print stddev values\n",
    "print(\"Standard deviation for list1:\", list1_stddev)\n",
    "print(\"Standard deviation for list2:\", list2_stddev)\n",
    "\n",
    "# Check that the stddev values are correct\n",
    "assert_equal(round(list1_stddev, 3), 1.414)\n",
    "assert_equal(round(list2_stddev, 3), 2.550)\n"
   ]
  },
  {
   "cell_type": "markdown",
   "metadata": {
    "deletable": false,
    "editable": false,
    "nbgrader": {
     "cell_type": "markdown",
     "checksum": "78d0eba5a90304a9f1d25b665216edc5",
     "grade": false,
     "grade_id": "cell-a726f1366ee0c7aa",
     "locked": true,
     "schema_version": 3,
     "solution": false
    }
   },
   "source": [
    "## Part 3: Creating your `stderr()` function (*1 point*)\n",
    "\n",
    "The *standard deviation of the mean* or *standard error* $\\sigma_{\\bar{x}}$, calculated using a function you should call `stderr()`.\n",
    "\n",
    "\\begin{equation}\n",
    "  \\Large\n",
    "  \\sigma_{\\bar{x}} = \\frac{\\sigma_{x}}{\\sqrt{N}}\n",
    "\\end{equation}\n",
    "\n",
    "*Equation 3. The standard error*.\n",
    "\n",
    "- Create a function called `stderr()` in the cell below."
   ]
  },
  {
   "cell_type": "code",
   "execution_count": null,
   "metadata": {
    "deletable": false,
    "nbgrader": {
     "cell_type": "code",
     "checksum": "a91ef95b1addb762b3101f457fb97847",
     "grade": false,
     "grade_id": "stderr",
     "locked": false,
     "schema_version": 3,
     "solution": true
    }
   },
   "outputs": [],
   "source": [
    "# Import the math module to use the square root function math.sqrt()\n",
    "import math\n",
    "\n",
    "def stderr(numbers):\n",
    "    \"\"\"Returns the standard error of a collection of numbers.\"\"\"\n",
    "# YOUR CODE HERE\n",
    "raise NotImplementedError()"
   ]
  },
  {
   "cell_type": "code",
   "execution_count": null,
   "metadata": {
    "deletable": false,
    "editable": false,
    "nbgrader": {
     "cell_type": "code",
     "checksum": "77776574b98434f89061bccb3d7249a2",
     "grade": true,
     "grade_id": "stderr_teproblem_1_stderr_testssts",
     "locked": true,
     "points": 1,
     "schema_version": 3,
     "solution": false
    }
   },
   "outputs": [],
   "source": [
    "# These tests with small lists should work\n",
    "\n",
    "from nose.tools import assert_equal, assert_true\n",
    "\n",
    "# Test stderr function with some lists\n",
    "list1 = [1, 2, 3, 4, 5]\n",
    "list2 = [-1, 0, -5, 2]\n",
    "\n",
    "# Calculate list stderr\n",
    "list1_stderr = stderr(list1)\n",
    "list2_stderr = stderr(list2)\n",
    "\n",
    "# Print stderr values\n",
    "print(\"Standard error for list1:\", list1_stderr)\n",
    "print(\"Standard error for list2:\", list2_stderr)\n",
    "\n",
    "# Check that the stderr values are correct\n",
    "assert_equal(round(list1_stderr, 3), 0.632)\n",
    "assert_equal(round(list2_stderr, 3), 1.275)"
   ]
  },
  {
   "cell_type": "markdown",
   "metadata": {
    "deletable": false,
    "editable": false,
    "nbgrader": {
     "cell_type": "markdown",
     "checksum": "6af8d53952c4a4d1fd9b200bce77e15e",
     "grade": false,
     "grade_id": "cell-4b4372c4e64f376f",
     "locked": true,
     "schema_version": 3,
     "solution": false,
     "task": false
    }
   },
   "source": [
    "# Problem 2: Analyzing volcano data (*8 points*)\n",
    "\n",
    "In this problem we'll utilize the functions generated in Problem 1 to calculate some statistics related to Holocene volcanoes from the [Smithsonian Institution's Global Volcanism Program](https://volcano.si.edu/).\n",
    "\n",
    "**Notice**: Closely follow the instructions! For example, you should be sure to use **exactly** the same variable names mentioned in the instructions because your answers will be automatically graded, and the tests that grade your answers rely on following the same formatting or variable naming as in the instructions.\n",
    "\n",
    "**Your score on this problem will be based on following criteria**:\n",
    "\n",
    "- Reading and processing the [data file](data/GVP_Volcano_List_Holocene.csv)\n",
    "- Cleaning the raw data as instructed\n",
    "- Creating a new DataFrame of regional volcano statistics\n",
    "- Including comments that explain what most lines in the code do\n",
    "- Answering a couple questions at the end of the problem\n",
    "- Uploading your notebook to your GitHub repository for this week's exercise"
   ]
  },
  {
   "cell_type": "markdown",
   "metadata": {
    "deletable": false,
    "editable": false,
    "nbgrader": {
     "cell_type": "markdown",
     "checksum": "0df8737f596ee4691bf08020e834d8ca",
     "grade": false,
     "grade_id": "cell-2e7e5201541afe62",
     "locked": true,
     "schema_version": 3,
     "solution": false,
     "task": false
    }
   },
   "source": [
    "## Part 1: Reading the data file (*1.5 points*)\n",
    "\n",
    "The first step in this exercise is to read in the [data file](data/GVP_Volcano_List_Holocene.csv) we're using. \n",
    "\n",
    "- For this, you should use the Pandas `read_csv()` funtion to read in the data file [data/GVP_Volcano_List_Holocene.csv](data/GVP_Volcano_List_Holocene.csv) into the variable `data`\n",
    "    - Use the semicolon character `;` as the separator between columns\n",
    "    - Skip the first row"
   ]
  },
  {
   "cell_type": "code",
   "execution_count": null,
   "metadata": {
    "deletable": false,
    "nbgrader": {
     "cell_type": "code",
     "checksum": "d3032f1ef476d3e7505c1afad3e87be5",
     "grade": false,
     "grade_id": "read_data",
     "locked": false,
     "schema_version": 3,
     "solution": true,
     "task": false
    }
   },
   "outputs": [],
   "source": [
    "data = None\n",
    "\n",
    "# YOUR CODE HERE\n",
    "raise NotImplementedError()"
   ]
  },
  {
   "cell_type": "code",
   "execution_count": null,
   "metadata": {
    "deletable": false,
    "editable": false,
    "nbgrader": {
     "cell_type": "code",
     "checksum": "8cd82b8e42b9d3cfef7f177784257546",
     "grade": true,
     "grade_id": "problem_2_read_data_tests_1",
     "locked": true,
     "points": 0.5,
     "schema_version": 3,
     "solution": false,
     "task": false
    }
   },
   "outputs": [],
   "source": [
    "# This test print should print the head and the column names\n",
    "print(data.head(1))\n",
    "print(data.columns)\n"
   ]
  },
  {
   "cell_type": "code",
   "execution_count": null,
   "metadata": {
    "deletable": false,
    "editable": false,
    "nbgrader": {
     "cell_type": "code",
     "checksum": "7c7668cee9740219fa908c0a98439635",
     "grade": true,
     "grade_id": "problem_2_read_data_tests_2",
     "locked": true,
     "points": 0.5,
     "schema_version": 3,
     "solution": false,
     "task": false
    }
   },
   "outputs": [],
   "source": [
    "# This test print should print the first row of data\n",
    "print(data.loc[0].values)\n"
   ]
  },
  {
   "cell_type": "code",
   "execution_count": null,
   "metadata": {
    "deletable": false,
    "editable": false,
    "nbgrader": {
     "cell_type": "code",
     "checksum": "8d2247e5ac52fba72b2561086ac30b9a",
     "grade": true,
     "grade_id": "problem_2_read_data_tests_3",
     "locked": true,
     "points": 0.5,
     "schema_version": 3,
     "solution": false,
     "task": false
    }
   },
   "outputs": [],
   "source": [
    "# This test print should print the number of rows of data\n",
    "print('The DataFrame contains', len(data),'rows.')\n"
   ]
  },
  {
   "cell_type": "markdown",
   "metadata": {
    "deletable": false,
    "editable": false,
    "nbgrader": {
     "cell_type": "markdown",
     "checksum": "beb684af83ab169c0dc31d2ddb8bfbbf",
     "grade": false,
     "grade_id": "cell-5c4c6da32a142f27",
     "locked": true,
     "schema_version": 3,
     "solution": false,
     "task": false
    }
   },
   "source": [
    "## Part 2: Preparing the data (*1 point*)\n",
    "\n",
    "Before moving to creating our statistical functions, we need to clean up our data a bit.\n",
    "\n",
    "- Create a subset of the `data` dataframe called `clean_data` that contains only volcanoes with elevations above sea level\n",
    "- Drop rows from the `clean_data` DataFrame with NaNs in the 'Tectonic Setting' column"
   ]
  },
  {
   "cell_type": "code",
   "execution_count": null,
   "metadata": {
    "deletable": false,
    "nbgrader": {
     "cell_type": "code",
     "checksum": "ff2198de38a93b7ea43cc01cd08d4f91",
     "grade": false,
     "grade_id": "clean_data",
     "locked": false,
     "schema_version": 3,
     "solution": true,
     "task": false
    }
   },
   "outputs": [],
   "source": [
    "clean_data = None\n",
    "\n",
    "# YOUR CODE HERE\n",
    "raise NotImplementedError()"
   ]
  },
  {
   "cell_type": "code",
   "execution_count": null,
   "metadata": {
    "deletable": false,
    "editable": false,
    "nbgrader": {
     "cell_type": "code",
     "checksum": "a17f55974374e20d62edd8e05aed21e4",
     "grade": true,
     "grade_id": "problem_2_clean_data_tests_1",
     "locked": true,
     "points": 0.5,
     "schema_version": 3,
     "solution": false,
     "task": false
    }
   },
   "outputs": [],
   "source": [
    "# This test print should print the head\n",
    "print(clean_data.head(1))\n"
   ]
  },
  {
   "cell_type": "code",
   "execution_count": null,
   "metadata": {
    "deletable": false,
    "editable": false,
    "nbgrader": {
     "cell_type": "code",
     "checksum": "4567fc3afb592e8274fe967d360732f8",
     "grade": true,
     "grade_id": "problem_2_clean_data_tests_2",
     "locked": true,
     "points": 0.5,
     "schema_version": 3,
     "solution": false,
     "task": false
    }
   },
   "outputs": [],
   "source": [
    "# This test print should print the last 5 tectonic settings\n",
    "print(clean_data['Tectonic Setting'].tail(5))\n"
   ]
  },
  {
   "cell_type": "markdown",
   "metadata": {
    "deletable": false,
    "editable": false,
    "nbgrader": {
     "cell_type": "markdown",
     "checksum": "d256b92f35634ff27d3e4bc19bfe980a",
     "grade": false,
     "grade_id": "cell-2f8914d165f3cabb",
     "locked": true,
     "schema_version": 3,
     "solution": false,
     "task": false
    }
   },
   "source": [
    "## Part 3: Global volcano statistics (*1 point*)\n",
    "\n",
    "With our clean data, we can now calculate some global statistical values for Holocene volcanoes.\n",
    "\n",
    "- Calculate the mean elevation of all volcanoes in the `clean_data` DataFrame as variable `global_mean`\n",
    "- Calculate the standard deviation in the elevation of all the volcanoes in the `clean_data` DataFrame as variable `global_stddev`\n",
    "- Calculate the standard error in the elevation of all the volcanoes in the `clean_data` DataFrame as variable `global_stderr`\n",
    "\n",
    "**Note**: You will need to use the `.values` attribute with the elevation data to calculate the requested values using the functions you created in Problem 1."
   ]
  },
  {
   "cell_type": "code",
   "execution_count": null,
   "metadata": {
    "deletable": false,
    "nbgrader": {
     "cell_type": "code",
     "checksum": "1a635d025af26db114df03d9a69ec8fa",
     "grade": false,
     "grade_id": "global_stats",
     "locked": false,
     "schema_version": 3,
     "solution": true,
     "task": false
    }
   },
   "outputs": [],
   "source": [
    "global_mean = None\n",
    "global_stddev = None\n",
    "global_stderr = None\n",
    "\n",
    "# YOUR CODE HERE\n",
    "raise NotImplementedError()"
   ]
  },
  {
   "cell_type": "code",
   "execution_count": null,
   "metadata": {
    "deletable": false,
    "editable": false,
    "nbgrader": {
     "cell_type": "code",
     "checksum": "78938209ebd8948bd01e9bb2f0d689fd",
     "grade": true,
     "grade_id": "problem_2_global_stats_tests_1",
     "locked": true,
     "points": 0.5,
     "schema_version": 3,
     "solution": false,
     "task": false
    }
   },
   "outputs": [],
   "source": [
    "# This should print the global mean volcano elevation\n",
    "print('My global average volcano elevation:', global_mean, 'meters.\\nThe expected value is approximately 1922 meters.')\n"
   ]
  },
  {
   "cell_type": "code",
   "execution_count": null,
   "metadata": {
    "deletable": false,
    "editable": false,
    "nbgrader": {
     "cell_type": "code",
     "checksum": "4ccb39a6c092534f2cb2683d2a6bc7f4",
     "grade": true,
     "grade_id": "problem_2_global_stats_tests_2",
     "locked": true,
     "points": 0.25,
     "schema_version": 3,
     "solution": false,
     "task": false
    }
   },
   "outputs": [],
   "source": [
    "# This should print the global standard deviation in volcano elevation\n",
    "print('My global standard deviation in volcano elevation:', global_stddev, 'meters.\\nThe expected value is approximately 1406 meters.')\n"
   ]
  },
  {
   "cell_type": "code",
   "execution_count": null,
   "metadata": {
    "deletable": false,
    "editable": false,
    "nbgrader": {
     "cell_type": "code",
     "checksum": "a31f5450e8c98094bd5914e36a4338dd",
     "grade": true,
     "grade_id": "problem_2_global_stats_tests_3",
     "locked": true,
     "points": 0.25,
     "schema_version": 3,
     "solution": false,
     "task": false
    }
   },
   "outputs": [],
   "source": [
    "# This should print the global standard deviation in volcano elevation\n",
    "print('My global standard error in volcano elevation:', global_stderr, 'meters.\\nThe expected value is approximately 39 meters.')\n"
   ]
  },
  {
   "cell_type": "markdown",
   "metadata": {
    "deletable": false,
    "editable": false,
    "nbgrader": {
     "cell_type": "markdown",
     "checksum": "c55b7d01001211047987f005f0bff6d4",
     "grade": false,
     "grade_id": "cell-651b9988c4cd7924",
     "locked": true,
     "schema_version": 3,
     "solution": false
    }
   },
   "source": [
    "## Part 4: Compiling regional volcano statistics (*2 points*)\n",
    "\n",
    "Using an approach similar to that in Part 3, we can now calculate some statistics on volcanoes in various geographic regions.\n",
    "\n",
    "- Create a variable `regions` that contains the unique 'Region' values from the `clean_data` DataFrame\n",
    "- Using a `for` loop, loop over each region and append its mean, standard deviation, and standard error in volcano elevation to the empty list variables `means`, `stddevs`, and `stderrs`\n",
    "    - **Note**: In your `for` loop you should first extract a subset of data using `.loc` to select the elevation values for the region of interest\n",
    "    - You will also want to convert your subset of elevations to an array of values using the `.values` attribute before using your functions"
   ]
  },
  {
   "cell_type": "code",
   "execution_count": null,
   "metadata": {
    "deletable": false,
    "nbgrader": {
     "cell_type": "code",
     "checksum": "2787166bd9c65a0d98a12f5cc341b747",
     "grade": false,
     "grade_id": "regional_data",
     "locked": false,
     "schema_version": 3,
     "solution": true,
     "task": false
    }
   },
   "outputs": [],
   "source": [
    "regions = None\n",
    "\n",
    "means = []\n",
    "stddevs = []\n",
    "stderrs = []\n",
    "\n",
    "# YOUR CODE HERE\n",
    "raise NotImplementedError()"
   ]
  },
  {
   "cell_type": "code",
   "execution_count": null,
   "metadata": {
    "deletable": false,
    "editable": false,
    "nbgrader": {
     "cell_type": "code",
     "checksum": "d1ebad7bee6b6af1dc237f87fc7d931d",
     "grade": true,
     "grade_id": "problem_2_regional_data_tests_1",
     "locked": true,
     "points": 0.5,
     "schema_version": 3,
     "solution": false,
     "task": false
    }
   },
   "outputs": [],
   "source": [
    "# This should print the last value in the regions array\n",
    "print('The last region is', regions[-1])\n"
   ]
  },
  {
   "cell_type": "code",
   "execution_count": null,
   "metadata": {
    "deletable": false,
    "editable": false,
    "nbgrader": {
     "cell_type": "code",
     "checksum": "7022bb5c2bdd7060f3bf904842a8c82e",
     "grade": true,
     "grade_id": "problem_2_regional_data_tests_2",
     "locked": true,
     "points": 0.5,
     "schema_version": 3,
     "solution": false,
     "task": false
    }
   },
   "outputs": [],
   "source": [
    "# This should print the last value in the means list\n",
    "print('The last mean value is', means[-1])\n"
   ]
  },
  {
   "cell_type": "code",
   "execution_count": null,
   "metadata": {
    "deletable": false,
    "editable": false,
    "nbgrader": {
     "cell_type": "code",
     "checksum": "fd920b958b02c55fe4dff5927c3f665c",
     "grade": true,
     "grade_id": "problem_2_regional_data_tests_3",
     "locked": true,
     "points": 0.5,
     "schema_version": 3,
     "solution": false,
     "task": false
    }
   },
   "outputs": [],
   "source": [
    "# This should print the last value in the stddevs list\n",
    "print('The last mean value is', stddevs[-1])\n"
   ]
  },
  {
   "cell_type": "code",
   "execution_count": null,
   "metadata": {
    "deletable": false,
    "editable": false,
    "nbgrader": {
     "cell_type": "code",
     "checksum": "c2f915eb14b12f6e91089e1bd155682c",
     "grade": true,
     "grade_id": "problem_2_regional_data_tests_4",
     "locked": true,
     "points": 0.5,
     "schema_version": 3,
     "solution": false,
     "task": false
    }
   },
   "outputs": [],
   "source": [
    "# This should print the last value in the stderrs list\n",
    "print('The last stderr value is', stderrs[-1])\n"
   ]
  },
  {
   "cell_type": "markdown",
   "metadata": {
    "deletable": false,
    "editable": false,
    "nbgrader": {
     "cell_type": "markdown",
     "checksum": "e949b96ce12470d07dead44ba73a070a",
     "grade": false,
     "grade_id": "cell-e214c3a30cdb77c2",
     "locked": true,
     "schema_version": 3,
     "solution": false,
     "task": false
    }
   },
   "source": [
    "## Part 5: Creating a regional DataFrame (*1.5 points*)\n",
    "\n",
    "The last step in this problem is to combine our new lists into a new Pandas DataFrame.\n",
    "\n",
    "- Create a new DataFrame called `region_data` using `regions` as the index and the `means`, `stddevs`, and `stderrs` lists as the column data\n",
    "    - **Hint**: When creating a DataFrame, column data can be specified in a dictionary using the `data` keyword (e.g., `data = {'Column heading': column_values}`), where `'Column heading'` would be the name of the column, and `column_values` would be the data in that column\n",
    "    - **Hint**: The `index` parameter can be used to indicate the values to be used for the index"
   ]
  },
  {
   "cell_type": "code",
   "execution_count": null,
   "metadata": {
    "deletable": false,
    "nbgrader": {
     "cell_type": "code",
     "checksum": "09bc374d22b80dc987c9a48abf6d3fec",
     "grade": false,
     "grade_id": "region_dataframe",
     "locked": false,
     "schema_version": 3,
     "solution": true,
     "task": false
    }
   },
   "outputs": [],
   "source": [
    "region_data = None\n",
    "\n",
    "# YOUR CODE HERE\n",
    "raise NotImplementedError()"
   ]
  },
  {
   "cell_type": "code",
   "execution_count": null,
   "metadata": {
    "deletable": false,
    "editable": false,
    "nbgrader": {
     "cell_type": "code",
     "checksum": "1ce600282159d3be7c1e05318b4b7a9a",
     "grade": true,
     "grade_id": "problem_2_region_dataframe_tests_1",
     "locked": true,
     "points": 0.5,
     "schema_version": 3,
     "solution": false,
     "task": false
    }
   },
   "outputs": [],
   "source": [
    "# This should print the last row in the region_data DataFrame\n",
    "print(region_data.tail(1))\n"
   ]
  },
  {
   "cell_type": "code",
   "execution_count": null,
   "metadata": {
    "deletable": false,
    "editable": false,
    "nbgrader": {
     "cell_type": "code",
     "checksum": "b1697ac130b6019c7c292c5c67fa956a",
     "grade": true,
     "grade_id": "problem_2_region_dataframe_tests_2",
     "locked": true,
     "points": 0.5,
     "schema_version": 3,
     "solution": false,
     "task": false
    }
   },
   "outputs": [],
   "source": [
    "# This should print the shape of the DataFrame\n",
    "print('DataFrame dimensions:', region_data.shape)\n"
   ]
  },
  {
   "cell_type": "code",
   "execution_count": null,
   "metadata": {
    "deletable": false,
    "editable": false,
    "nbgrader": {
     "cell_type": "code",
     "checksum": "77d589672c0baed7df3a9e001e713846",
     "grade": true,
     "grade_id": "problem_2_region_dataframe_tests_3",
     "locked": true,
     "points": 0.5,
     "schema_version": 3,
     "solution": false,
     "task": false
    }
   },
   "outputs": [],
   "source": [
    "# This should print mean elevation for Alaska\n",
    "print('Alaska mean volcano elevation:', region_data['Mean elevation'].loc['Alaska'])\n"
   ]
  },
  {
   "cell_type": "markdown",
   "metadata": {
    "deletable": false,
    "editable": false,
    "nbgrader": {
     "cell_type": "markdown",
     "checksum": "c0acf320400bbc82391f40ce15f88417",
     "grade": false,
     "grade_id": "cell-531cc40c3359f0a0",
     "locked": true,
     "schema_version": 3,
     "solution": false,
     "task": false
    }
   },
   "source": [
    "## Part 6: Questions for Problem 2 (*1 point*)\n",
    "\n",
    "1. How much do the standard deviation values vary among the regions? What do these values tell you about the volcano elevations in different regions?\n",
    "2. Do you observe a large difference between the standard deviation and standard error values? Is it clear why you should always indicate whether reported values are standard deviations or standard errors?"
   ]
  },
  {
   "cell_type": "markdown",
   "metadata": {
    "deletable": false,
    "nbgrader": {
     "cell_type": "markdown",
     "checksum": "79da9c2ad9e881179fe3578932a30ca8",
     "grade": true,
     "grade_id": "problem_2_questions",
     "locked": false,
     "points": 1,
     "schema_version": 3,
     "solution": true,
     "task": false
    }
   },
   "source": [
    "YOUR ANSWER HERE"
   ]
  },
  {
   "cell_type": "markdown",
   "metadata": {
    "deletable": false,
    "editable": false,
    "nbgrader": {
     "cell_type": "markdown",
     "checksum": "04c298bf2bd0cd4027f51846b1064849",
     "grade": false,
     "grade_id": "cell-3cc8db1eee42a22c",
     "locked": true,
     "schema_version": 3,
     "solution": false,
     "task": false
    }
   },
   "source": [
    "## Problem 3: Visualizing uncertainty (*9 points*)\n",
    "\n",
    "In this problem we will continue to develop our Python mathematical and plotting skills by visualizing the regional volcano data using bar plots and the *normal distribution*. The normal distribution is a mathematical function with a bell shape, also known as the *Gauss function* or *Gaussian*. This function is centered on the mean value of a given set of values, where its value is greatest, and its value decreases away from the mean in what is hopefully a familiar form.\n",
    "\n",
    "**Notice**: Closely follow the instructions! For example, you should be sure to use **exactly** the same variable names mentioned in the instructions because your answers will be automatically graded, and the tests that grade your answers rely on following the same formatting or variable naming as in the instructions.\n",
    "\n",
    "**Your score on this problem will be based on following criteria**:\n",
    "\n",
    "- Creating bar plots of the regional volcano data\n",
    "- Properly defining a function for calulating normal distributions\n",
    "- Creating a new DataFrame of regional volcano elevation distributions\n",
    "- Including comments that explain what most lines in the code do\n",
    "- Answering a couple questions at the end of the problem\n",
    "- Uploading your notebook to your GitHub repository for this week's exercise"
   ]
  },
  {
   "cell_type": "markdown",
   "metadata": {
    "deletable": false,
    "editable": false,
    "nbgrader": {
     "cell_type": "markdown",
     "checksum": "67e2dd9d95f4d099e5e5fe67ebbf1f6a",
     "grade": false,
     "grade_id": "cell-448d1323c91135a2",
     "locked": true,
     "schema_version": 3,
     "solution": false,
     "task": false
    }
   },
   "source": [
    "## Part 1: A bar plot of our regional volcano data (*1.5 points*)\n",
    "\n",
    "We'll start visualizing our volcano data by creating a bar plot of the mean elevations along with their standard deviations.\n",
    "\n",
    "- Create a bar plot of the mean elevations in the `region_data` DataFrame, including the standard deviation in elevation as an error bar\n",
    "    - The data for the error bars can be assigned using the `yerr` parameter in the `.plot()` function\n",
    "    - We suggest you use a slightly larger figure size of 12 by 8 inches, which can be set using the `figsize` parameter in the `.plot()` function\n",
    "- Include a title and label on the y-axis\n",
    "- Also add a black, dashed line spanning the width of the plot and indicating the global mean volcano elevation\n",
    "    - Check the hints for this week's exercise about how to add this line\n",
    "- Be sure to show a plot legend\n",
    "- Finally, add a figure caption in the Markdown cell below the Python cell for your plot that describes the plot as if it were in a scientific journal article"
   ]
  },
  {
   "cell_type": "code",
   "execution_count": null,
   "metadata": {
    "deletable": false,
    "nbgrader": {
     "cell_type": "code",
     "checksum": "7a0ce1be200661ebbe507d1dd00a502e",
     "grade": true,
     "grade_id": "problem_3_plot_1",
     "locked": false,
     "points": 1,
     "schema_version": 3,
     "solution": true,
     "task": false
    }
   },
   "outputs": [],
   "source": [
    "%matplotlib inline\n",
    "\n",
    "ax = None\n",
    "\n",
    "# YOUR CODE HERE\n",
    "raise NotImplementedError()"
   ]
  },
  {
   "cell_type": "markdown",
   "metadata": {
    "deletable": false,
    "nbgrader": {
     "cell_type": "markdown",
     "checksum": "be8eb1219d45635afddcd792c3fb51fe",
     "grade": true,
     "grade_id": "problem_3_caption_1",
     "locked": false,
     "points": 0.5,
     "schema_version": 3,
     "solution": true,
     "task": false
    }
   },
   "source": [
    "YOUR ANSWER HERE"
   ]
  },
  {
   "cell_type": "markdown",
   "metadata": {
    "deletable": false,
    "editable": false,
    "nbgrader": {
     "cell_type": "markdown",
     "checksum": "0e4d74812e52946117a84e7b34d9e9de",
     "grade": false,
     "grade_id": "cell-1a581f53e5848a34",
     "locked": true,
     "schema_version": 3,
     "solution": false,
     "task": false
    }
   },
   "source": [
    "## Part 2: Another bar plot of our regional volcano data (*1.5 points*)\n",
    "\n",
    "Let's now produce a plot similar to that from Part 1, but using the *standard error* data for the error bars.\n",
    "\n",
    "- Create a bar plot of the mean elevations in the `region_data` DataFrame, including the standard error in elevation as an error bar\n",
    "    - The data for the error bars can be assigned using the `yerr` parameter in the `.plot()` function\n",
    "    - We suggest you use a slightly larger figure size of 12 by 8 inches, which can be set using the `figsize` parameter in the `.plot()` function\n",
    "- Include a title and label on the y-axis\n",
    "- Also add a black, dashed line spanning the width of the plot and indicating the global mean volcano elevation\n",
    "    - Check the hints for this week's exercise about how to add this line\n",
    "- Be sure to show a plot legend\n",
    "- Finally, add a figure caption in the Markdown cell below the Python cell for your plot that describes the plot as if it were in a scientific journal article"
   ]
  },
  {
   "cell_type": "code",
   "execution_count": null,
   "metadata": {
    "deletable": false,
    "nbgrader": {
     "cell_type": "code",
     "checksum": "5e2119d8128a9a9c95eab25e967eed6b",
     "grade": true,
     "grade_id": "problem_3_plot_2",
     "locked": false,
     "points": 1,
     "schema_version": 3,
     "solution": true,
     "task": false
    }
   },
   "outputs": [],
   "source": [
    "%matplotlib inline\n",
    "\n",
    "ax = None\n",
    "\n",
    "# YOUR CODE HERE\n",
    "raise NotImplementedError()"
   ]
  },
  {
   "cell_type": "markdown",
   "metadata": {
    "deletable": false,
    "nbgrader": {
     "cell_type": "markdown",
     "checksum": "d35145c5244162361a017cec2a1f7026",
     "grade": true,
     "grade_id": "problem_3_caption_2",
     "locked": false,
     "points": 0.5,
     "schema_version": 3,
     "solution": true,
     "task": false
    }
   },
   "source": [
    "YOUR ANSWER HERE"
   ]
  },
  {
   "cell_type": "markdown",
   "metadata": {
    "deletable": false,
    "editable": false,
    "nbgrader": {
     "cell_type": "markdown",
     "checksum": "70332a8eb0255555f6d273777caa446c",
     "grade": false,
     "grade_id": "cell-7af90befcceca31b",
     "locked": true,
     "schema_version": 3,
     "solution": false,
     "task": false
    }
   },
   "source": [
    "## Part 3: One more statistical function (*2 points*)\n",
    "\n",
    "Your next task in this problem is to define the functions that will be needed to make plots of the normal distributions of the data from Problem 2.\n",
    "We can start with the Gaussian function itself, which has a mathematical definition that is\n",
    "\\begin{equation}\n",
    "  \\Large\n",
    "  G_{\\bar{x}, \\sigma_{x}}(x) = \\frac{1}{\\sigma_{x} \\sqrt{2 \\pi}} e^{-(x - \\bar{x})^{2} / 2 \\sigma_{x}^{2})}\n",
    "\\end{equation}\n",
    "\n",
    "*Equation 4. The normal distribution*.\n",
    "\n",
    "In this equation, $e$ is the exponential function, $x$ is the value for which the normal distribution is calculated (elevation in our case), $\\bar{x}$ is the mean, and $\\sigma_{x}$ is the standard deviation.\n",
    "As we have already defined functions for the mean and standard deviation, you can use your earlier functions here.\n",
    "**Note**: With the Gaussian function we are explicitly assuming here that the uncertainty is symmetric and follows a bell-shaped distribution about the mean.\n",
    "\n",
    "For this part you should:\n",
    "\n",
    "- Import NumPy to be able to use the exponential function and one for calculating the square root\n",
    "- Define a function called `gaussian()` that you can use to calculate the normal distribution.\n",
    "    - **Note**: You will have more than one parameter when defining this function."
   ]
  },
  {
   "cell_type": "code",
   "execution_count": null,
   "metadata": {
    "deletable": false,
    "nbgrader": {
     "cell_type": "code",
     "checksum": "4dd1306f9ad9339caf1403a8142ff7b9",
     "grade": false,
     "grade_id": "gaussian",
     "locked": false,
     "schema_version": 3,
     "solution": true,
     "task": false
    }
   },
   "outputs": [],
   "source": [
    "import numpy as np\n",
    "\n",
    "def gaussian(mean_value, stddev_value, x_array):\n",
    "    \"\"\"Returns the Gaussian distribution of a range of values.\"\"\"\n",
    "# YOUR CODE HERE\n",
    "raise NotImplementedError()"
   ]
  },
  {
   "cell_type": "code",
   "execution_count": null,
   "metadata": {
    "deletable": false,
    "editable": false,
    "nbgrader": {
     "cell_type": "code",
     "checksum": "87fc0c7d6d71299a77d66f8ef3dcaff6",
     "grade": true,
     "grade_id": "problem_3_gaussian_tests_1",
     "locked": true,
     "points": 1,
     "schema_version": 3,
     "solution": false,
     "task": false
    }
   },
   "outputs": [],
   "source": [
    "# This test should also work\n",
    "print(\"The Gaussian value for this test should be 0.3989. My Gaussian value is:\", gaussian(1, 1, [1]))\n"
   ]
  },
  {
   "cell_type": "code",
   "execution_count": null,
   "metadata": {
    "deletable": false,
    "editable": false,
    "nbgrader": {
     "cell_type": "code",
     "checksum": "73c2a43ac3a109293aac1ffbd3b5dfc0",
     "grade": true,
     "grade_id": "problem_3_gaussian_tests_2",
     "locked": true,
     "points": 1,
     "schema_version": 3,
     "solution": false,
     "task": false
    }
   },
   "outputs": [],
   "source": [
    "# This test should work\n",
    "print(\"The Gaussian value for this test should be 0.1994. My Gaussian value is:\", gaussian(2, 2, [2]))\n"
   ]
  },
  {
   "cell_type": "markdown",
   "metadata": {
    "deletable": false,
    "editable": false,
    "nbgrader": {
     "cell_type": "markdown",
     "checksum": "1e1dd26d6377646e68fef2deb83412ae",
     "grade": false,
     "grade_id": "cell-ebd811e52d7f5e6a",
     "locked": true,
     "schema_version": 3,
     "solution": false,
     "task": false
    }
   },
   "source": [
    "## Part 4: Calculating normal distributions for our elevation data (*1 point*)\n",
    "\n",
    "Your next task now that we have the functions defined is to calculate the normal distributions for each of the regional volcano elevations from Problem 2. You can use the mean and standard deviation values calculated in the `region_data` DataFrame for this.\n",
    "\n",
    "- Define a NumPy array called `elevations` that goes from 0 to 8000 meters in 1001 steps\n",
    "- Create a new empty Pandas DataFrame called `gaussians` with `elevations` as the index\n",
    "- Use a `for` loop to loop over each region in the `regions` array defined back in Problem 2\n",
    "    - For each region, calculate the normal distribution of volcano elevations using the regional mean elevation and standard deviation in elevation over the range of elevations in the `elevations` array\n",
    "    - Save each normal distribution in a new column named for the region\n",
    "        - As you may recall, you can easily add a new column by assigning values to a new column name in the DataFrame. For example, `df['New column'] = elevations` would assign the values from the `elevations` array to a new column in the DataFrame `df` called `'New column'`"
   ]
  },
  {
   "cell_type": "code",
   "execution_count": null,
   "metadata": {
    "deletable": false,
    "nbgrader": {
     "cell_type": "code",
     "checksum": "d6e90174a5f68408f7406f82da872429",
     "grade": false,
     "grade_id": "gaussians",
     "locked": false,
     "schema_version": 3,
     "solution": true,
     "task": false
    }
   },
   "outputs": [],
   "source": [
    "# Array of elevations\n",
    "elevations = None\n",
    "\n",
    "# New DataFrame for normal distributions\n",
    "gaussians = None\n",
    "\n",
    "# YOUR CODE HERE\n",
    "raise NotImplementedError()"
   ]
  },
  {
   "cell_type": "code",
   "execution_count": null,
   "metadata": {
    "deletable": false,
    "editable": false,
    "nbgrader": {
     "cell_type": "code",
     "checksum": "65cee8bacd3dcbd8f5ab82350668042e",
     "grade": true,
     "grade_id": "problem_3_gaussians_tests_1",
     "locked": true,
     "points": 0.5,
     "schema_version": 3,
     "solution": false,
     "task": false
    }
   },
   "outputs": [],
   "source": [
    "# This test print should work\n",
    "print('The elevation at index 400 is', elevations[400], '. The expected value is 3200.0.')\n"
   ]
  },
  {
   "cell_type": "code",
   "execution_count": null,
   "metadata": {
    "deletable": false,
    "editable": false,
    "nbgrader": {
     "cell_type": "code",
     "checksum": "722a0c465e419ad473840a53df72443f",
     "grade": true,
     "grade_id": "problem_3_gaussproblem_3_gaussians_tests_1ians_tests_2",
     "locked": true,
     "points": 0.5,
     "schema_version": 3,
     "solution": false,
     "task": false
    }
   },
   "outputs": [],
   "source": [
    "# This should print the shape of the DataFrame\n",
    "print('DataFrame dimensions:', gaussians.shape)\n"
   ]
  },
  {
   "cell_type": "markdown",
   "metadata": {
    "deletable": false,
    "editable": false,
    "nbgrader": {
     "cell_type": "markdown",
     "checksum": "063de1cc387fe60c69115edbccf4479e",
     "grade": false,
     "grade_id": "cell-057208d46f9b003d",
     "locked": true,
     "schema_version": 3,
     "solution": false,
     "task": false
    }
   },
   "source": [
    "## Part 5: Plotting our volcano data, version 2.0 (*2 points*)\n",
    "\n",
    "Finally, we can plot our normal distributions.\n",
    "\n",
    "- Create a plot of the data in the `gaussians` DataFrame using the Pandas `.plot()` function\n",
    "    - Include a title and again we suggest a figure size of 12 by 8 inches\n",
    "- Label the x- and y-axes\n",
    "    - The y-axis label should be 'Probability'\n",
    "- Set the range for the y-axis to go from 0.0 to 0.0016\n",
    "- Finally, add a figure caption in the Markdown cell below the Python cell for your plot that describes the plot as if it were in a scientific journal article"
   ]
  },
  {
   "cell_type": "code",
   "execution_count": null,
   "metadata": {
    "deletable": false,
    "nbgrader": {
     "cell_type": "code",
     "checksum": "0f1974f7bfca969591a73e2ff34e7333",
     "grade": true,
     "grade_id": "problem_3_plot_3",
     "locked": false,
     "points": 1.5,
     "schema_version": 3,
     "solution": true,
     "task": false
    }
   },
   "outputs": [],
   "source": [
    "ax = None\n",
    "\n",
    "# YOUR CODE HERE\n",
    "raise NotImplementedError()"
   ]
  },
  {
   "cell_type": "markdown",
   "metadata": {
    "deletable": false,
    "nbgrader": {
     "cell_type": "markdown",
     "checksum": "8e75abde792b48616ab12471baf960c9",
     "grade": true,
     "grade_id": "problem_3_caption_3",
     "locked": false,
     "points": 0.5,
     "schema_version": 3,
     "solution": true,
     "task": false
    }
   },
   "source": [
    "YOUR ANSWER HERE"
   ]
  },
  {
   "cell_type": "markdown",
   "metadata": {
    "deletable": false,
    "editable": false,
    "nbgrader": {
     "cell_type": "markdown",
     "checksum": "b85273a889a1029d572c4a3daa1770b3",
     "grade": false,
     "grade_id": "cell-cb265de65d73d7aa",
     "locked": true,
     "schema_version": 3,
     "solution": false,
     "task": false
    }
   },
   "source": [
    "## Part 6: Questions for Problem 3 (*1 point*)\n",
    "\n",
    "1. How does the shape of the Gaussian distribution change for different values of the standard deviation?\n",
    "2. Using this method of visualization, is it clear which regions have larger or smaller variations in average volcano elevation?"
   ]
  },
  {
   "cell_type": "markdown",
   "metadata": {
    "deletable": false,
    "nbgrader": {
     "cell_type": "markdown",
     "checksum": "951cebb9516f3544c60275a7a1944b0d",
     "grade": true,
     "grade_id": "problem_3_answers",
     "locked": false,
     "points": 1,
     "schema_version": 3,
     "solution": true,
     "task": false
    }
   },
   "source": [
    "YOUR ANSWER HERE"
   ]
  }
 ],
 "metadata": {
  "kernelspec": {
   "display_name": "Python 3",
   "language": "python",
   "name": "python3"
  },
  "language_info": {
   "codemirror_mode": {
    "name": "ipython",
    "version": 3
   },
   "file_extension": ".py",
   "mimetype": "text/x-python",
   "name": "python",
   "nbconvert_exporter": "python",
   "pygments_lexer": "ipython3",
   "version": "3.7.4"
  }
 },
 "nbformat": 4,
 "nbformat_minor": 2
}
